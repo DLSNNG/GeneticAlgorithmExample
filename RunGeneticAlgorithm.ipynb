{
 "cells": [
  {
   "cell_type": "code",
   "execution_count": 2,
   "metadata": {
    "collapsed": false
   },
   "outputs": [
    {
     "name": "stdout",
     "output_type": "stream",
     "text": [
      "Data received [[  11.    2.    3.  419.  550.]\n",
      " [   1.  234.    3.    4.  550.]\n",
      " [   1.    2.   32.  412.  550.]\n",
      " [   1.   25.   23.  463.  550.]\n",
      " [   1.   29.    3.   48.  550.]]\n",
      "population fitness [55.3484421441, 64.6131892198, 66.3282592104, 76.3076076358, 82.9629536785, 104.256804214, 122.876879645, 136.714816541, 138.020748078, 157.485728291]\n",
      "population fitness [0.0391572060292, 0.0391572060292, 0.0391572060292, 0.0391572060292, 0.0391572060292, 0.0391572060292, 32.4088649767, 3.41066418306, 0.0391572060292, 0.0391572060292]\n",
      "best fitness 0.0391572060292\n",
      "best genes: [0.0033671315540175772, 0.0006178693272363978, 0.001100387389695201, 0.00016025048127366048, 0.935221199765521]\n"
     ]
    }
   ],
   "source": [
    "import numpy as np\n",
    "from Population import Population\n",
    "import logging, sys\n",
    "logging.basicConfig(stream=sys.stderr, level=logging.WARNING)\n",
    "\n",
    "data = np.genfromtxt(\"data.csv\", delimiter=\",\")\n",
    "\n",
    "def fitnessFunc(organism, data):\n",
    "    weights = np.array(organism.genes)\n",
    "    weightedData = data * weights\n",
    "    sumArray = weightedData.sum(axis=1, dtype='float')\n",
    "    mean = np.mean(sumArray)\n",
    "    stdev = np.std(sumArray)\n",
    "    logging.info(\"data array is %s\", data)\n",
    "    logging.info(\"weights array is %s\", weights)\n",
    "    logging.info(\"weighted data is %s\", weightedData)\n",
    "    logging.info(\"array of sums is %s\", sumArray)\n",
    "    logging.info(\"stdev of sums is %s\", stdev)\n",
    "    return stdev;\n",
    "\n",
    "pop = Population(numGenes=5, size=10, matingPool=5, mutationRate=20, fitnessFunc=fitnessFunc, data=data, logger=logging)\n",
    "pop.orderByFitness()\n",
    "\n",
    "print \"population fitness %s\" % pop\n",
    "\n",
    "pop.churn(10000)\n",
    "\n",
    "print \"population fitness %s\" % pop\n",
    "\n",
    "print \"best fitness %s\" % pop.getMostFit().fitness\n",
    "print \"best genes: %s\" % pop.getMostFit().genes"
   ]
  },
  {
   "cell_type": "code",
   "execution_count": null,
   "metadata": {
    "collapsed": true
   },
   "outputs": [],
   "source": []
  }
 ],
 "metadata": {
  "kernelspec": {
   "display_name": "Python 2",
   "language": "python",
   "name": "python2"
  },
  "language_info": {
   "codemirror_mode": {
    "name": "ipython",
    "version": 2
   },
   "file_extension": ".py",
   "mimetype": "text/x-python",
   "name": "python",
   "nbconvert_exporter": "python",
   "pygments_lexer": "ipython2",
   "version": "2.7.6"
  }
 },
 "nbformat": 4,
 "nbformat_minor": 1
}
